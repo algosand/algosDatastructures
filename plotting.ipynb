{
 "cells": [
  {
   "cell_type": "code",
   "execution_count": 2,
   "id": "6ae41eb5-5c72-4beb-8693-bfdbfd15e09e",
   "metadata": {},
   "outputs": [],
   "source": [
    "import matplotlib.pyplot as plt"
   ]
  },
  {
   "cell_type": "code",
   "execution_count": 6,
   "id": "5f1767c5-2aaa-47bc-ab0f-5c21877fdeb9",
   "metadata": {},
   "outputs": [],
   "source": [
    "%matplotlib inline"
   ]
  },
  {
   "cell_type": "code",
   "execution_count": 7,
   "id": "3fb7c0b4-0d89-4c17-889e-85b63d2d0ab1",
   "metadata": {},
   "outputs": [
    {
     "data": {
      "image/png": "[encoded data removed]",
      "text/plain": [
       "<Figure size 432x288 with 1 Axes>"
      ]
     },
     "metadata": {
      "needs_background": "light"
     },
     "output_type": "display_data"
    }
   ],
   "source": [
    "\n",
    "x_coordinates = [3,4,5,6,7,7,7,6,5,4,3,2,1,1,1,2,4,0]\n",
    "y_coordinates = [0,0,0,1,2,3,4,5,5,5,5,5,4,3,2,1,2,3]\n",
    "plt.scatter(x_coordinates, y_coordinates)\n",
    "plt.show()"
   ]
  },
  {
   "cell_type": "code",
   "execution_count": null,
   "id": "1bf10781-d45f-4958-a7fa-9643de395101",
   "metadata": {},
   "outputs": [],
   "source": [
    "[[0,3],[1,2],[2,1],[3,0],[4,0],[5,0],[6,1],[7,2],[7,3],[7,4],[6,5],[5,5],[4,5],[3,5],[2,5],[1,4],[1,3],[4,2]]\n",
    "[[7,4],[5,0],[7,2],[3,0],[0,3],[1,4],[1,2],[6,5],[2,1],[2,5],[4,0],[5,5],[4,5],[6,1],[3,5],[7,3]]"
   ]
  }
 ],
 "metadata": {
  "kernelspec": {
   "display_name": "Python 3 (ipykernel)",
   "language": "python",
   "name": "python3"
  },
  "language_info": {
   "codemirror_mode": {
    "name": "ipython",
    "version": 3
   },
   "file_extension": ".py",
   "mimetype": "text/x-python",
   "name": "python",
   "nbconvert_exporter": "python",
   "pygments_lexer": "ipython3",
   "version": "3.8.11"
  }
 },
 "nbformat": 4,
 "nbformat_minor": 5
}
