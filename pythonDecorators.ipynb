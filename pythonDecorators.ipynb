{
 "cells": [
  {
   "cell_type": "markdown",
   "id": "508c3a5b-7fc2-4d47-9bd4-508a33c9684e",
   "metadata": {},
   "source": [
    "# Python Decorator"
   ]
  },
  {
   "cell_type": "code",
   "execution_count": 4,
   "id": "0f477afc-1259-4ed2-9a2d-670e6e9e59a8",
   "metadata": {},
   "outputs": [],
   "source": [
    "def uppercase(func):\n",
    "    def wrapper():\n",
    "        f = func()\n",
    "        uppered = f.upper()\n",
    "        return uppered\n",
    "    return wrapper\n",
    "\n",
    "@uppercase\n",
    "def hello():\n",
    "    return \"hello world!\""
   ]
  },
  {
   "cell_type": "code",
   "execution_count": 5,
   "id": "92ffacd6-6da3-4a6d-980d-3ea61575c61d",
   "metadata": {},
   "outputs": [
    {
     "data": {
      "text/plain": [
       "'HELLO WORLD!'"
      ]
     },
     "execution_count": 5,
     "metadata": {},
     "output_type": "execute_result"
    }
   ],
   "source": [
    "hello()"
   ]
  }
 ],
 "metadata": {
  "kernelspec": {
   "display_name": "Python 3 (ipykernel)",
   "language": "python",
   "name": "python3"
  },
  "language_info": {
   "codemirror_mode": {
    "name": "ipython",
    "version": 3
   },
   "file_extension": ".py",
   "mimetype": "text/x-python",
   "name": "python",
   "nbconvert_exporter": "python",
   "pygments_lexer": "ipython3",
   "version": "3.8.5"
  }
 },
 "nbformat": 4,
 "nbformat_minor": 5
}
