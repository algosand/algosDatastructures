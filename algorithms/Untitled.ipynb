{
 "cells": [
  {
   "cell_type": "code",
   "execution_count": 3,
   "id": "88a063bc-64e4-4090-b352-28629b5536c0",
   "metadata": {},
   "outputs": [],
   "source": [
    "\n",
    "def f(i,j):\n",
    "    print(i,bin(i))\n",
    "    print(j,bin(j))"
   ]
  },
  {
   "cell_type": "code",
   "execution_count": 4,
   "id": "335c4807-1e04-4dc0-b59a-e8113d99792f",
   "metadata": {},
   "outputs": [
    {
     "name": "stdout",
     "output_type": "stream",
     "text": [
      "20 0b10100\n",
      "30 0b11110\n"
     ]
    }
   ],
   "source": [
    "f(20,30)"
   ]
  },
  {
   "cell_type": "code",
   "execution_count": 5,
   "id": "300a30d1-6b4d-48c5-a574-2161029ffcc9",
   "metadata": {},
   "outputs": [
    {
     "name": "stdout",
     "output_type": "stream",
     "text": [
      "0b10100\n",
      "0b10101\n",
      "0b10110\n",
      "0b10111\n",
      "0b11000\n",
      "0b11001\n",
      "0b11010\n",
      "0b11011\n",
      "0b11100\n",
      "0b11101\n",
      "0b11110\n"
     ]
    }
   ],
   "source": [
    "for i in range(20,31):\n",
    "    print(bin(i))"
   ]
  },
  {
   "cell_type": "code",
   "execution_count": null,
   "id": "a1870a5c-72e4-4ce2-b624-fc8f969de103",
   "metadata": {},
   "outputs": [],
   "source": []
  }
 ],
 "metadata": {
  "kernelspec": {
   "display_name": "Python 3 (ipykernel)",
   "language": "python",
   "name": "python3"
  },
  "language_info": {
   "codemirror_mode": {
    "name": "ipython",
    "version": 3
   },
   "file_extension": ".py",
   "mimetype": "text/x-python",
   "name": "python",
   "nbconvert_exporter": "python",
   "pygments_lexer": "ipython3",
   "version": "3.8.5"
  }
 },
 "nbformat": 4,
 "nbformat_minor": 5
}
